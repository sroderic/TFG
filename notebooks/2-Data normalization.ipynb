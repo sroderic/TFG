{
 "cells": [
  {
   "cell_type": "code",
   "execution_count": null,
   "metadata": {},
   "outputs": [
    {
     "name": "stdout",
     "output_type": "stream",
     "text": [
      "       image_id   dx\n",
      "0  ISIC_0027419  bkl\n",
      "1  ISIC_0025030  bkl\n",
      "2  ISIC_0026769  bkl\n",
      "3  ISIC_0025661  bkl\n",
      "4  ISIC_0031633  bkl\n"
     ]
    }
   ],
   "source": [
    "from pathlib import Path\n",
    "import pickle\n",
    "import pandas as pd\n",
    "\n",
    "project_folder = Path.home() / 'Documents' / 'TFG'\n",
    "data_folder = project_folder / 'data'\n",
    "images_folder = data_folder / 'images'\n",
    "masks_folder = data_folder / 'semantic_segmentations'\n",
    "\n",
    "with open(data_folder / 'dataset_info.pkl', \"rb\") as f:\n",
    "\tdataset_info = pickle.load(f)\n",
    "\n",
    "df_train = dataset_info['df_train']\n",
    "\n",
    "print(df_train.head())"
   ]
  },
  {
   "cell_type": "code",
   "execution_count": null,
   "metadata": {},
   "outputs": [
    {
     "name": "stdout",
     "output_type": "stream",
     "text": [
      "Calculando mean y std...\n"
     ]
    },
    {
     "name": "stderr",
     "output_type": "stream",
     "text": [
      "100%|██████████| 8010/8010 [05:44<00:00, 23.23it/s]\n"
     ]
    },
    {
     "name": "stdout",
     "output_type": "stream",
     "text": [
      "\n",
      "✅ Media por canal: tensor([0.7565, 0.5503, 0.5762])\n",
      "✅ Desviación estándar por canal: tensor([0.1427, 0.1534, 0.1717])\n"
     ]
    }
   ],
   "source": [
    "import torch\n",
    "from torchvision import transforms\n",
    "from tqdm import tqdm\n",
    "from PIL import Image\n",
    "\n",
    "# Inicializar acumuladores\n",
    "mean = torch.zeros(3)\n",
    "std = torch.zeros(3)\n",
    "n_pixels = 0\n",
    "\n",
    "# Transformación a tensor (valores entre 0 y 1)\n",
    "to_tensor = transforms.ToTensor()\n",
    "\n",
    "print(\"Calculando mean y std...\")\n",
    "\n",
    "for _, row in tqdm(df_train.iterrows(), total=len(df_train)):\n",
    "\timage_id = row['image_id']\n",
    "\timage_path = images_folder / f\"{image_id}.jpg\"\n",
    "\n",
    "\ttry:\n",
    "\t\timage = Image.open(image_path).convert(\"RGB\")\n",
    "\t\ttensor = to_tensor(image)  # shape: [C, H, W]\n",
    "        \n",
    "        # Acumulamos media y std\n",
    "\t\tn_pixels += tensor.shape[1] * tensor.shape[2]  # H * W\n",
    "\t\tmean += tensor.sum(dim=(1, 2))  # Sum over H and W\n",
    "\t\tstd += (tensor ** 2).sum(dim=(1, 2))\n",
    "    \n",
    "\texcept Exception as e:\n",
    "\t\tprint(f\"Error con {image_id}: {e}\")\n",
    "\n",
    "# Calcular mean y std finales\n",
    "mean /= n_pixels\n",
    "std = (std / n_pixels - mean ** 2).sqrt()\n",
    "\n",
    "print(f\"\\n✅ Media por canal: {mean}\")\n",
    "print(f\"✅ Desviación estándar por canal: {std}\")"
   ]
  },
  {
   "cell_type": "code",
   "execution_count": null,
   "metadata": {},
   "outputs": [
    {
     "name": "stdout",
     "output_type": "stream",
     "text": [
      "Calculando mean y std...\n"
     ]
    },
    {
     "name": "stderr",
     "output_type": "stream",
     "text": [
      "  0%|          | 0/9010 [00:00<?, ?it/s]"
     ]
    },
    {
     "name": "stderr",
     "output_type": "stream",
     "text": [
      "100%|██████████| 9010/9010 [03:40<00:00, 40.95it/s]"
     ]
    },
    {
     "name": "stdout",
     "output_type": "stream",
     "text": [
      "\n",
      "✅ Media por canal: tensor([0.7604, 0.5478, 0.5729])\n",
      "✅ Desviación estándar por canal: tensor([0.1420, 0.1531, 0.1710])\n"
     ]
    },
    {
     "name": "stderr",
     "output_type": "stream",
     "text": [
      "\n"
     ]
    }
   ],
   "source": [
    "import torch\n",
    "from torchvision import transforms\n",
    "from tqdm import tqdm\n",
    "from PIL import Image\n",
    "\n",
    "# Inicializar acumuladores\n",
    "mean = torch.zeros(3)\n",
    "std = torch.zeros(3)\n",
    "n_pixels = 0\n",
    "\n",
    "# Transformación a tensor (valores entre 0 y 1)\n",
    "to_tensor = transforms.ToTensor()\n",
    "\n",
    "print(\"Calculando mean y std...\")\n",
    "\n",
    "for _, row in tqdm(df_train.iterrows(), total=len(df_train)):\n",
    "\timage_id = row['image_id']\n",
    "\timage_path = images_folder / f\"{image_id}.jpg\"\n",
    "\n",
    "\ttry:\n",
    "\t\timage = Image.open(image_path).convert(\"RGB\")\n",
    "\t\ttensor = to_tensor(image)  # shape: [C, H, W]\n",
    "        \n",
    "        # Acumulamos media y std\n",
    "\t\tn_pixels += tensor.shape[1] * tensor.shape[2]  # H * W\n",
    "\t\tmean += tensor.sum(dim=(1, 2))  # Sum over H and W\n",
    "\t\tstd += (tensor ** 2).sum(dim=(1, 2))\n",
    "    \n",
    "\texcept Exception as e:\n",
    "\t\tprint(f\"Error con {image_id}: {e}\")\n",
    "\n",
    "# Calcular mean y std finales\n",
    "std = ((std - (mean ** 2 / n_pixels)) / (n_pixels - 1)).sqrt()\n",
    "mean /= n_pixels\n",
    "\n",
    "\n",
    "print(f\"\\n✅ Media por canal: {mean}\")\n",
    "print(f\"✅ Desviación estándar por canal: {std}\")"
   ]
  }
 ],
 "metadata": {
  "kernelspec": {
   "display_name": "tfg",
   "language": "python",
   "name": "python3"
  },
  "language_info": {
   "codemirror_mode": {
    "name": "ipython",
    "version": 3
   },
   "file_extension": ".py",
   "mimetype": "text/x-python",
   "name": "python",
   "nbconvert_exporter": "python",
   "pygments_lexer": "ipython3",
   "version": "3.11.11"
  }
 },
 "nbformat": 4,
 "nbformat_minor": 2
}
