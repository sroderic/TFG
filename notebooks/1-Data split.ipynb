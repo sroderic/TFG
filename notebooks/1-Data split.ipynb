{
 "cells": [
  {
   "cell_type": "code",
   "execution_count": 5,
   "metadata": {},
   "outputs": [
    {
     "name": "stdout",
     "output_type": "stream",
     "text": [
      "     lesion_id      image_id   dx dx_type   age   sex localization  \\\n",
      "0  HAM_0000118  ISIC_0027419  bkl   histo  80.0  male        scalp   \n",
      "1  HAM_0000118  ISIC_0025030  bkl   histo  80.0  male        scalp   \n",
      "2  HAM_0002730  ISIC_0026769  bkl   histo  80.0  male        scalp   \n",
      "3  HAM_0002730  ISIC_0025661  bkl   histo  80.0  male        scalp   \n",
      "4  HAM_0001466  ISIC_0031633  bkl   histo  75.0  male          ear   \n",
      "\n",
      "        dataset  \n",
      "0  vidir_modern  \n",
      "1  vidir_modern  \n",
      "2  vidir_modern  \n",
      "3  vidir_modern  \n",
      "4  vidir_modern  \n"
     ]
    }
   ],
   "source": [
    "from pathlib import Path\n",
    "import pandas as pd\n",
    "\n",
    "project_folder = Path.home() / 'Documents' / 'TFG'\n",
    "data_folder = project_folder / 'data'\n",
    "\n",
    "# Carreguem l'arxiu CSV\n",
    "csv_path = data_folder / 'ham10000' / 'HAM10000_metadata'\n",
    "df = pd.read_csv(csv_path)\n",
    "\n",
    "# Comprobem les primeres files\n",
    "print(df.head())"
   ]
  },
  {
   "cell_type": "code",
   "execution_count": 6,
   "metadata": {},
   "outputs": [
    {
     "name": "stdout",
     "output_type": "stream",
     "text": [
      "     lesion_id      image_id   dx\n",
      "0  HAM_0000118  ISIC_0027419  bkl\n",
      "1  HAM_0000118  ISIC_0025030  bkl\n",
      "2  HAM_0002730  ISIC_0026769  bkl\n",
      "3  HAM_0002730  ISIC_0025661  bkl\n",
      "4  HAM_0001466  ISIC_0031633  bkl\n"
     ]
    }
   ],
   "source": [
    "df = df.drop(columns=['dx_type', 'age', 'sex', 'localization', 'dataset'])\n",
    "print(df.head())"
   ]
  },
  {
   "cell_type": "code",
   "execution_count": 14,
   "metadata": {},
   "outputs": [
    {
     "name": "stdout",
     "output_type": "stream",
     "text": [
      "Nombre de lesions:\n",
      " 7470\n",
      "Nombre de imatges:\n",
      " 10015\n",
      "Nombre de classes:\n",
      " 7\n",
      "Distribució de les classes:\n",
      " dx\n",
      "nv       0.669496\n",
      "mel      0.111133\n",
      "bkl      0.109735\n",
      "bcc      0.051323\n",
      "akiec    0.032651\n",
      "vasc     0.014179\n",
      "df       0.011483\n",
      "Name: proportion, dtype: float64\n"
     ]
    }
   ],
   "source": [
    "# Comprobem el nombre de lesions uniques\n",
    "print(\"Nombre de lesions:\\n\", df[\"lesion_id\"].nunique())\n",
    "\n",
    "# Comprobem el nombre de lesions uniques\n",
    "print(\"Nombre de imatges:\\n\", df[\"image_id\"].nunique())\n",
    "\n",
    "# Comprobem el nombre de lesions uniques\n",
    "print(\"Nombre de classes:\\n\", df[\"dx\"].nunique())\n",
    "\n",
    "# unique_lesions = df.drop_duplicates(subset='lesion_id')\n",
    "# # Now get the class distribution\n",
    "# dx_distribution = unique_lesions['dx'].value_counts(normalize=True)\n",
    "# print(\"Distribució de les classes per lesio:\\n\", dx_distribution)\n",
    "\n",
    "# unique_lesions = df.drop_duplicates(subset='lesion_id')\n",
    "\n",
    "# # Now get the class distribution\n",
    "# dx_distribution = df['dx'].value_counts(normalize=True)\n",
    "# print(\"Distribució de les classes per imatge:\\n\", dx_distribution)\n",
    "\n",
    "# Comprobem la distribució de les classes\n",
    "print(\"Distribució de les classes:\\n\", df[\"dx\"].value_counts(normalize=True))\n"
   ]
  },
  {
   "cell_type": "code",
   "execution_count": 19,
   "metadata": {},
   "outputs": [
    {
     "name": "stdout",
     "output_type": "stream",
     "text": [
      "['bkl' 'nv' 'df' 'mel' 'vasc' 'bcc' 'akiec']\n"
     ]
    }
   ],
   "source": [
    "# Comprobem el nombre de classes úniques\n",
    "classes = df['dx'].unique()\n",
    "print(classes)"
   ]
  },
  {
   "cell_type": "code",
   "execution_count": 20,
   "metadata": {},
   "outputs": [
    {
     "name": "stdout",
     "output_type": "stream",
     "text": [
      "dx\n",
      "nv       6705\n",
      "mel      1113\n",
      "bkl      1099\n",
      "bcc       514\n",
      "akiec     327\n",
      "vasc      142\n",
      "df        115\n",
      "Name: count, dtype: int64\n"
     ]
    }
   ],
   "source": [
    "# Comprobem el nombre d'observacions per classe\n",
    "total_class_counts = df['dx'].value_counts()\n",
    "print(total_class_counts)"
   ]
  },
  {
   "cell_type": "code",
   "execution_count": null,
   "metadata": {},
   "outputs": [
    {
     "name": "stdout",
     "output_type": "stream",
     "text": [
      "df_train te 4501 registros\n",
      "df_val te 5514 registros\n"
     ]
    }
   ],
   "source": [
    "# Es conta el nombre d'images que hi ha per classe\n",
    "image_counts = df['lesion_id'].value_counts()\n",
    "\n",
    "# Es creen dos data frames: df_train y df_val\n",
    "# Com que existeixen pacients amb més d'una imatge aquestes aniran tots a df_train\n",
    "df_train = df[df['lesion_id'].isin(image_counts[image_counts > 1].index)]\n",
    "\n",
    "# A df_val aniran, de moment, la resta d'imatges\n",
    "df_val = df[df['lesion_id'].isin(image_counts[image_counts == 1].index)]\n",
    "\n",
    "# Es verifiquen les divisiones\n",
    "print(f\"df_train te {len(df_train)} registres\")\n",
    "print(f\"df_val te {len(df_val)} registres\")"
   ]
  },
  {
   "cell_type": "code",
   "execution_count": null,
   "metadata": {},
   "outputs": [
    {
     "name": "stdout",
     "output_type": "stream",
     "text": [
      "Distribució de classes de df_train:\n",
      " dx\n",
      "nv       0.669663\n",
      "mel      0.111111\n",
      "bkl      0.109738\n",
      "bcc      0.051311\n",
      "akiec    0.032584\n",
      "vasc     0.014107\n",
      "df       0.011486\n",
      "Name: proportion, dtype: float64\n",
      "Distribució de classes de df_val:\n",
      " dx\n",
      "nv       0.668828\n",
      "mel      0.111222\n",
      "bkl      0.109726\n",
      "bcc      0.051372\n",
      "akiec    0.032918\n",
      "vasc     0.014464\n",
      "df       0.011471\n",
      "Name: proportion, dtype: float64\n"
     ]
    }
   ],
   "source": [
    "classes = df['dx'].unique()\n",
    "total_class_counts = df['dx'].value_counts()\n",
    "train_class_counts = df_train['dx'].value_counts()\n",
    "\n",
    "# S'itera sobre totes les classes\n",
    "for cls in classes:\n",
    "\t# Es calcula el nombre d'imatges que falten per completar el 80% dessitjat al train dataset\n",
    "\tmissing = int(total_class_counts[cls] * 0.8 - train_class_counts[cls])\n",
    "\t# print(cls, \": Missing \", missing, \"images to complete\")\n",
    "\n",
    "\tif missing > 0:\n",
    "\t\t# Es filtren les imatges que perteneixen a la clase a df_val\n",
    "\t\ttemp_class_df = df_val[df_val['dx'] == cls]\n",
    "\n",
    "\t\t# Si hi ha suficients imatges a df_val per completar el 80% a df_train\n",
    "\t\tif len(temp_class_df) >= missing:\n",
    "\t\t\t# Es seleccionen aleatoriament el nombre d'imatges calculades de df_val per moureles a df_train\n",
    "\t\t\tselected_images = temp_class_df.sample(n=missing, random_state=42)\n",
    "\n",
    "\t\t\t# S'afegeixen les imatges al conjunt d'entrenament i s'eliminen del conjunt de validació\n",
    "\t\t\tdf_train = pd.concat([df_train, selected_images])\n",
    "\t\t\tdf_val = df_val.drop(selected_images.index)\n",
    "\t\telse:\n",
    "\t\t\tprint(f\"No hi ha suficients imatges per a completar la classe {cls}. Es necessiten: {missing}, disponibles: {len(temp_class_df)}\")\n",
    "\n",
    "# Ara df_train conté el 80% de les imatges de cada clase, i df_val el 20% restant.\n",
    "print(\"Distribució de classes de df_train:\\n\", df_train[\"dx\"].value_counts(normalize=True))\n",
    "print(\"Distribució de classes de df_val:\\n\", df_val[\"dx\"].value_counts(normalize=True))"
   ]
  },
  {
   "cell_type": "code",
   "execution_count": 23,
   "metadata": {},
   "outputs": [
    {
     "name": "stdout",
     "output_type": "stream",
     "text": [
      "df_train te 8010 registres\n",
      "df_val te 2005 registres\n"
     ]
    }
   ],
   "source": [
    "print(f\"df_train te {len(df_train)} registres\")\n",
    "print(f\"df_val te {len(df_val)} registres\")"
   ]
  },
  {
   "cell_type": "code",
   "execution_count": null,
   "metadata": {},
   "outputs": [
    {
     "name": "stdout",
     "output_type": "stream",
     "text": [
      "       image_id   dx\n",
      "0  ISIC_0027419  bkl\n",
      "1  ISIC_0025030  bkl\n",
      "2  ISIC_0026769  bkl\n",
      "3  ISIC_0025661  bkl\n",
      "4  ISIC_0031633  bkl\n"
     ]
    }
   ],
   "source": [
    "# S'esborren les columnes no necessaries\n",
    "df = df.drop(columns=['lesion_id'])\n",
    "df_train = df_train.drop(columns=['lesion_id'])\n",
    "df_train = df_train.reset_index(drop=True)\n",
    "df_val = df_val.drop(columns=['lesion_id'])\n",
    "df_val = df_val.reset_index(drop=True)\n",
    "\n",
    "print(df_train.head())"
   ]
  },
  {
   "cell_type": "code",
   "execution_count": null,
   "metadata": {},
   "outputs": [
    {
     "name": "stdout",
     "output_type": "stream",
     "text": [
      "{'background': 0, 'bkl': 1, 'nv': 2, 'df': 3, 'mel': 4, 'vasc': 5, 'bcc': 6, 'akiec': 7}\n"
     ]
    }
   ],
   "source": [
    "# Es crear un diccionari que asigna un valor numèric a cada classe de lesió\n",
    "class_to_int = {'background': 0 }\n",
    "for i, cls in enumerate(classes):\n",
    "\tclass_to_int[cls] = i + 1\n",
    "\n",
    "print(class_to_int)"
   ]
  },
  {
   "cell_type": "code",
   "execution_count": 26,
   "metadata": {},
   "outputs": [
    {
     "name": "stdout",
     "output_type": "stream",
     "text": [
      "{0: 'background', 1: 'bkl', 2: 'nv', 3: 'df', 4: 'mel', 5: 'vasc', 6: 'bcc', 7: 'akiec'}\n"
     ]
    }
   ],
   "source": [
    "int_to_class = {v: k for k, v in class_to_int.items()}\n",
    "\n",
    "print(int_to_class)\n"
   ]
  },
  {
   "cell_type": "code",
   "execution_count": null,
   "metadata": {},
   "outputs": [],
   "source": [
    "# Es guarden els data frames i els diccionaris\n",
    "import pickle\n",
    "\n",
    "data_to_save = {\n",
    "    \"classes\": classes,\n",
    "    \"class_to_int\": class_to_int,\n",
    "    \"int_to_class\": int_to_class,\n",
    "    \"df\": df,\n",
    "    \"df_train\": df_train,\n",
    "    \"df_val\": df_val\n",
    "}\n",
    "\n",
    "with open(data_folder / \"dataset_info.pkl\", \"wb\") as f:\n",
    "    pickle.dump(data_to_save, f)\n",
    "\n",
    "# df.to_pickle(data / 'df.pkl')\n",
    "# df_train.to_pickle(data / 'df_train.pkl')\n",
    "# df_val.to_pickle(data / 'df_val.pkl')"
   ]
  },
  {
   "cell_type": "code",
   "execution_count": null,
   "metadata": {},
   "outputs": [],
   "source": [
    "# Es conveteixen les màscares binàries a màscares semàntiques\n",
    "\n",
    "import os\n",
    "from PIL import Image\n",
    "import numpy as np\n",
    "\n",
    "masks_folder = data_folder / 'ham10000' / 'binary_segmentations'\n",
    "destination_folder = data_folder / 'ham10000' / 'semantic_segmentations'\n",
    "# Es crea la carpeta de sortida si no existeis\n",
    "os.makedirs(destination_folder, exist_ok=True)\n",
    "\n",
    "for _, row in df.iterrows():\n",
    "\t# S'obté el nom de la imatge y la clase (dx)\n",
    "\timage_id = row['image_id']\n",
    "\tdx = row['dx']\n",
    "\n",
    "\t# S'obté el valor de la clase segons el dx\n",
    "\tclass_value = class_to_int.get(dx)\n",
    "\n",
    "\t# Es carrega la mascara binària\n",
    "\tmask_path = masks_folder / f'{image_id}_segmentation.png'\n",
    "\ttry:\n",
    "\t\tmask_image = Image.open(mask_path).convert('L')\n",
    "\t\tmask_array = np.array(mask_image)\n",
    "\n",
    "\t\t# Es canvien els pixels amb valor 255 pel valor de la clase\n",
    "\t\tmask_array[mask_array == 255] = class_value\n",
    "\n",
    "\t\tnew_mask_image = Image.fromarray(mask_array.astype(np.uint8))\n",
    "\n",
    "\t\t# Es guarda la nova mascara a la carpeta 'semantic_segmentations'\n",
    "\t\tnew_mask_path = destination_folder / f'{image_id}.png'\n",
    "\t\tnew_mask_image.save(new_mask_path)\n",
    "\n",
    "\n",
    "\texcept Exception as e:\n",
    "\t\tprint(f\"No s'ha pogut processar la imatge {image_id}: {e}\")"
   ]
  },
  {
   "cell_type": "code",
   "execution_count": null,
   "metadata": {},
   "outputs": [
    {
     "data": {
      "image/png": "[encoded data removed]",
      "text/plain": [
       "<Figure size 640x480 with 1 Axes>"
      ]
     },
     "metadata": {},
     "output_type": "display_data"
    }
   ],
   "source": [
    "# Es visualitza un màscara aleatòria\n",
    "import matplotlib.pyplot as plt\n",
    "from PIL import Image\n",
    "import numpy as np\n",
    "\n",
    "row = df.sample().iloc[0]\n",
    "image_id = row['image_id']\n",
    "dx = row['dx']\n",
    "\n",
    "class_value = class_to_int.get(dx)\n",
    "destination_folder = data_folder / 'ham10000' / 'semantic_segmentations'\n",
    "\n",
    "\n",
    "try:\n",
    "\tmask_path = destination_folder / f'{image_id}.png'\n",
    "\tmask_image = Image.open(mask_path).convert('L')\n",
    "\tmask_array = np.array(mask_image)\n",
    "\n",
    "\tplt.imshow(mask_image)\n",
    "\n",
    "except Exception as e:\n",
    "\tprint(f\"No se pudo procesar la imagen {image_id}: {e}\")"
   ]
  },
  {
   "cell_type": "code",
   "execution_count": 6,
   "metadata": {},
   "outputs": [],
   "source": [
    "import pickle\n",
    "\n",
    "# Es comprova l'integritat de les dades guardades\n",
    "with open(data_folder / \"dataset_info.pkl\", \"rb\") as f:\n",
    "    data_loaded = pickle.load(f)\n",
    "\n",
    "classes = data_loaded[\"classes\"]\n",
    "class_to_int = data_loaded[\"class_to_int\"]\n",
    "int_to_class = data_loaded[\"int_to_class\"]\n",
    "df = data_loaded[\"df\"]\n",
    "df_train = data_loaded[\"df_train\"]\n",
    "df_val = data_loaded[\"df_val\"]\n"
   ]
  },
  {
   "cell_type": "code",
   "execution_count": 25,
   "metadata": {},
   "outputs": [
    {
     "data": {
      "text/html": [
       "<div>\n",
       "<style scoped>\n",
       "    .dataframe tbody tr th:only-of-type {\n",
       "        vertical-align: middle;\n",
       "    }\n",
       "\n",
       "    .dataframe tbody tr th {\n",
       "        vertical-align: top;\n",
       "    }\n",
       "\n",
       "    .dataframe thead th {\n",
       "        text-align: right;\n",
       "    }\n",
       "</style>\n",
       "<table border=\"1\" class=\"dataframe\">\n",
       "  <thead>\n",
       "    <tr style=\"text-align: right;\">\n",
       "      <th></th>\n",
       "      <th>image_id</th>\n",
       "      <th>dx</th>\n",
       "    </tr>\n",
       "  </thead>\n",
       "  <tbody>\n",
       "    <tr>\n",
       "      <th>0</th>\n",
       "      <td>ISIC_0027419</td>\n",
       "      <td>bkl</td>\n",
       "    </tr>\n",
       "    <tr>\n",
       "      <th>1</th>\n",
       "      <td>ISIC_0025030</td>\n",
       "      <td>bkl</td>\n",
       "    </tr>\n",
       "    <tr>\n",
       "      <th>2</th>\n",
       "      <td>ISIC_0026769</td>\n",
       "      <td>bkl</td>\n",
       "    </tr>\n",
       "    <tr>\n",
       "      <th>3</th>\n",
       "      <td>ISIC_0025661</td>\n",
       "      <td>bkl</td>\n",
       "    </tr>\n",
       "    <tr>\n",
       "      <th>4</th>\n",
       "      <td>ISIC_0031633</td>\n",
       "      <td>bkl</td>\n",
       "    </tr>\n",
       "    <tr>\n",
       "      <th>...</th>\n",
       "      <td>...</td>\n",
       "      <td>...</td>\n",
       "    </tr>\n",
       "    <tr>\n",
       "      <th>9766</th>\n",
       "      <td>ISIC_0028854</td>\n",
       "      <td>akiec</td>\n",
       "    </tr>\n",
       "    <tr>\n",
       "      <th>9931</th>\n",
       "      <td>ISIC_0024329</td>\n",
       "      <td>akiec</td>\n",
       "    </tr>\n",
       "    <tr>\n",
       "      <th>9756</th>\n",
       "      <td>ISIC_0029541</td>\n",
       "      <td>akiec</td>\n",
       "    </tr>\n",
       "    <tr>\n",
       "      <th>9948</th>\n",
       "      <td>ISIC_0027562</td>\n",
       "      <td>akiec</td>\n",
       "    </tr>\n",
       "    <tr>\n",
       "      <th>9750</th>\n",
       "      <td>ISIC_0027678</td>\n",
       "      <td>akiec</td>\n",
       "    </tr>\n",
       "  </tbody>\n",
       "</table>\n",
       "<p>9010 rows × 2 columns</p>\n",
       "</div>"
      ],
      "text/plain": [
       "          image_id     dx\n",
       "0     ISIC_0027419    bkl\n",
       "1     ISIC_0025030    bkl\n",
       "2     ISIC_0026769    bkl\n",
       "3     ISIC_0025661    bkl\n",
       "4     ISIC_0031633    bkl\n",
       "...            ...    ...\n",
       "9766  ISIC_0028854  akiec\n",
       "9931  ISIC_0024329  akiec\n",
       "9756  ISIC_0029541  akiec\n",
       "9948  ISIC_0027562  akiec\n",
       "9750  ISIC_0027678  akiec\n",
       "\n",
       "[9010 rows x 2 columns]"
      ]
     },
     "execution_count": 25,
     "metadata": {},
     "output_type": "execute_result"
    }
   ],
   "source": [
    "classes\n",
    "class_to_int\n",
    "int_to_class\n",
    "df\n",
    "df_train"
   ]
  }
 ],
 "metadata": {
  "kernelspec": {
   "display_name": "tfg",
   "language": "python",
   "name": "python3"
  },
  "language_info": {
   "codemirror_mode": {
    "name": "ipython",
    "version": 3
   },
   "file_extension": ".py",
   "mimetype": "text/x-python",
   "name": "python",
   "nbconvert_exporter": "python",
   "pygments_lexer": "ipython3",
   "version": "3.11.11"
  }
 },
 "nbformat": 4,
 "nbformat_minor": 2
}
